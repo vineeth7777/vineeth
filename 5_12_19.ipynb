{
  "nbformat": 4,
  "nbformat_minor": 0,
  "metadata": {
    "colab": {
      "name": "5-12-19.ipynb",
      "provenance": [],
      "collapsed_sections": []
    },
    "kernelspec": {
      "name": "python3",
      "display_name": "Python 3"
    }
  },
  "cells": [
    {
      "cell_type": "markdown",
      "metadata": {
        "id": "Q_a_9sFQNfjo",
        "colab_type": "text"
      },
      "source": [
        "# basic is of functions"
      ]
    },
    {
      "cell_type": "code",
      "metadata": {
        "id": "gmfbhJjQNedx",
        "colab_type": "code",
        "colab": {
          "base_uri": "https://localhost:8080/",
          "height": 85
        },
        "outputId": "2c62ed77-53cc-4fb8-cce6-de5d2436bf74"
      },
      "source": [
        "li=[1,9,16,25,5]\n",
        "print(max(li))\n",
        "print(min(li))\n",
        "print(sum(li))\n",
        "print(sum(li)//len(li))"
      ],
      "execution_count": 1,
      "outputs": [
        {
          "output_type": "stream",
          "text": [
            "25\n",
            "1\n",
            "56\n",
            "11\n"
          ],
          "name": "stdout"
        }
      ]
    },
    {
      "cell_type": "code",
      "metadata": {
        "id": "UL0h94OGOM0p",
        "colab_type": "code",
        "colab": {
          "base_uri": "https://localhost:8080/",
          "height": 34
        },
        "outputId": "db3d1e0a-0628-4de0-8d44-702a7ad8514f"
      },
      "source": [
        "li=[1,9,16,25,5]\n",
        "li.append(29)\n",
        "print(li)"
      ],
      "execution_count": 3,
      "outputs": [
        {
          "output_type": "stream",
          "text": [
            "[1, 9, 16, 25, 5, 29]\n"
          ],
          "name": "stdout"
        }
      ]
    },
    {
      "cell_type": "code",
      "metadata": {
        "id": "i5yueCJhOcRe",
        "colab_type": "code",
        "colab": {
          "base_uri": "https://localhost:8080/",
          "height": 34
        },
        "outputId": "1730a978-6f01-4a6a-e37e-71d0b1d072e5"
      },
      "source": [
        "li=[1,9,16,25,5]\n",
        "li.insert(2,56)\n",
        "print(li)"
      ],
      "execution_count": 4,
      "outputs": [
        {
          "output_type": "stream",
          "text": [
            "[1, 9, 56, 16, 25, 5]\n"
          ],
          "name": "stdout"
        }
      ]
    },
    {
      "cell_type": "code",
      "metadata": {
        "id": "ESgcLQNMOqfB",
        "colab_type": "code",
        "colab": {
          "base_uri": "https://localhost:8080/",
          "height": 34
        },
        "outputId": "94e2ecc1-89e8-4a0e-ceea-969aa951d481"
      },
      "source": [
        "li.count(9)"
      ],
      "execution_count": 5,
      "outputs": [
        {
          "output_type": "execute_result",
          "data": {
            "text/plain": [
              "1"
            ]
          },
          "metadata": {
            "tags": []
          },
          "execution_count": 5
        }
      ]
    },
    {
      "cell_type": "code",
      "metadata": {
        "id": "eZpWjehOOu4C",
        "colab_type": "code",
        "colab": {
          "base_uri": "https://localhost:8080/",
          "height": 34
        },
        "outputId": "2dcb287d-b800-40b1-8eb4-61cc8704ef72"
      },
      "source": [
        "li.index(56)"
      ],
      "execution_count": 6,
      "outputs": [
        {
          "output_type": "execute_result",
          "data": {
            "text/plain": [
              "2"
            ]
          },
          "metadata": {
            "tags": []
          },
          "execution_count": 6
        }
      ]
    },
    {
      "cell_type": "markdown",
      "metadata": {
        "id": "_mM8XljNO6lp",
        "colab_type": "text"
      },
      "source": [
        " # Method of list objects"
      ]
    },
    {
      "cell_type": "code",
      "metadata": {
        "id": "qR7aHN-YO3vq",
        "colab_type": "code",
        "colab": {
          "base_uri": "https://localhost:8080/",
          "height": 34
        },
        "outputId": "61dcd506-363e-4045-f042-534ae4d7150f"
      },
      "source": [
        "li=[1,9,16,56,25,5,9]\n",
        "# li.sort() # sorts that list in he ascending order\n",
        "#li.pop() # last index value\n",
        "li.pop(1)#removes the item from he list\n",
        "print(li)"
      ],
      "execution_count": 8,
      "outputs": [
        {
          "output_type": "stream",
          "text": [
            "[1, 16, 56, 25, 5, 9]\n"
          ],
          "name": "stdout"
        }
      ]
    },
    {
      "cell_type": "code",
      "metadata": {
        "id": "lh2LKINNP5lt",
        "colab_type": "code",
        "colab": {
          "base_uri": "https://localhost:8080/",
          "height": 34
        },
        "outputId": "2156cfba-e5bb-4007-e15d-84019b9c32f6"
      },
      "source": [
        "li1=[1,6,19,25]\n",
        "li.extend\n",
        "li"
      ],
      "execution_count": 10,
      "outputs": [
        {
          "output_type": "execute_result",
          "data": {
            "text/plain": [
              "[1, 16, 56, 25, 5, 9]"
            ]
          },
          "metadata": {
            "tags": []
          },
          "execution_count": 10
        }
      ]
    },
    {
      "cell_type": "code",
      "metadata": {
        "id": "OmYwNim7QcLS",
        "colab_type": "code",
        "colab": {
          "base_uri": "https://localhost:8080/",
          "height": 34
        },
        "outputId": "823cf93c-ec2d-44a1-ac2d-53c843807b7a"
      },
      "source": [
        "li1=[1,6,19,25]\n",
        "#li.extend(li1)\n",
        "li1.reverse()\n",
        "li1"
      ],
      "execution_count": 12,
      "outputs": [
        {
          "output_type": "execute_result",
          "data": {
            "text/plain": [
              "[25, 19, 6, 1]"
            ]
          },
          "metadata": {
            "tags": []
          },
          "execution_count": 12
        }
      ]
    },
    {
      "cell_type": "code",
      "metadata": {
        "id": "te8Ohw4TQyPs",
        "colab_type": "code",
        "colab": {
          "base_uri": "https://localhost:8080/",
          "height": 51
        },
        "outputId": "ac10182a-7c6b-421e-9179-e7c5ef3086d8"
      },
      "source": [
        "def largenumber(li):\n",
        "    li.sort()\n",
        "    return li[-1]\n",
        "def genericlarge(li,n):\n",
        "    li.sort()\n",
        "    return li[-n]\n",
        "li=[19,1,25,6,9,45,22]\n",
        "print(largenumber(li))\n",
        "print(genericlarge(li,3))"
      ],
      "execution_count": 48,
      "outputs": [
        {
          "output_type": "stream",
          "text": [
            "45\n",
            "22\n"
          ],
          "name": "stdout"
        }
      ]
    },
    {
      "cell_type": "code",
      "metadata": {
        "id": "jAO-ZsDdYLyw",
        "colab_type": "code",
        "colab": {
          "base_uri": "https://localhost:8080/",
          "height": 34
        },
        "outputId": "dc2b4c7e-a6c7-47e2-b5da-cfcc0d724c69"
      },
      "source": [
        "li=[19,1,25,6,9,45,22]\n",
        "li.sort()\n",
        "li"
      ],
      "execution_count": 47,
      "outputs": [
        {
          "output_type": "execute_result",
          "data": {
            "text/plain": [
              "[1, 6, 9, 19, 22, 25, 45]"
            ]
          },
          "metadata": {
            "tags": []
          },
          "execution_count": 47
        }
      ]
    },
    {
      "cell_type": "code",
      "metadata": {
        "id": "8BLeLtr1SRF1",
        "colab_type": "code",
        "colab": {
          "base_uri": "https://localhost:8080/",
          "height": 51
        },
        "outputId": "6edfffd5-f334-4469-a13d-0b9f6342337d"
      },
      "source": [
        "def smallnumber(li):\n",
        "    li.sort()\n",
        "    return li[0]\n",
        "def genericsmall(li,n):\n",
        "    li.sort()\n",
        "    return li[n-1]\n",
        "li=[19,1,25,6,9,45,22]\n",
        "print(smallnumber(li))\n",
        "print(genericsmall(li,5))"
      ],
      "execution_count": 52,
      "outputs": [
        {
          "output_type": "stream",
          "text": [
            "1\n",
            "22\n"
          ],
          "name": "stdout"
        }
      ]
    },
    {
      "cell_type": "markdown",
      "metadata": {
        "id": "2NkxObI_Y7rw",
        "colab_type": "text"
      },
      "source": [
        "# Tuples\n",
        "* parenthesis()---> Tuple and square brackets[]---> list\n",
        "* differences between list and tuples\n",
        "    - list are mutable - can be chamged \n",
        "    - used to accesss and modify,add,delete data\n",
        "    - tuples are immutableb - cannot be changed\n",
        "    - used to access data only"
      ]
    },
    {
      "cell_type": "code",
      "metadata": {
        "id": "svucoqJtaCw8",
        "colab_type": "code",
        "colab": {
          "base_uri": "https://localhost:8080/",
          "height": 34
        },
        "outputId": "bf6ce802-468a-41e8-8ec2-35f849eda284"
      },
      "source": [
        "t1=(1,2,3,4,5,6)\n",
        "t1\n",
        "print(type(t1),t1[1:5])"
      ],
      "execution_count": 54,
      "outputs": [
        {
          "output_type": "stream",
          "text": [
            "<class 'tuple'> (2, 3, 4, 5)\n"
          ],
          "name": "stdout"
        }
      ]
    },
    {
      "cell_type": "markdown",
      "metadata": {
        "id": "lBIeLAEbcD3c",
        "colab_type": "text"
      },
      "source": [
        "# Dictionaries\n"
      ]
    },
    {
      "cell_type": "code",
      "metadata": {
        "id": "CvQ8lq5edL1E",
        "colab_type": "code",
        "colab": {
          "base_uri": "https://localhost:8080/",
          "height": 34
        },
        "outputId": "d2ce7433-1daa-4ca0-d3d5-e8d5ec846fe4"
      },
      "source": [
        "d1={\"name\":\"Gitam\",\"Email\":\"gitam@gmail.com\",\"address\":\"Hderabad\"}\n",
        "d1"
      ],
      "execution_count": 67,
      "outputs": [
        {
          "output_type": "execute_result",
          "data": {
            "text/plain": [
              "{'Email': 'gitam@gmail.com', 'address': 'Hderabad', 'name': 'Gitam'}"
            ]
          },
          "metadata": {
            "tags": []
          },
          "execution_count": 67
        }
      ]
    },
    {
      "cell_type": "code",
      "metadata": {
        "id": "kBxEO4AfdTjd",
        "colab_type": "code",
        "colab": {
          "base_uri": "https://localhost:8080/",
          "height": 34
        },
        "outputId": "fff3784c-3cf4-4403-f2cb-da711c1cbd2e"
      },
      "source": [
        "d1={\"name\":\"Gitam\",\"Email\":\"gitam@gmail.com\",\"address\":\"Hderabad\"}\n",
        "d1[\"Email\"]=\"yugugggu.com\"\n",
        "d1"
      ],
      "execution_count": 69,
      "outputs": [
        {
          "output_type": "execute_result",
          "data": {
            "text/plain": [
              "{'Email': 'yugugggu.com', 'address': 'Hderabad', 'name': 'Gitam'}"
            ]
          },
          "metadata": {
            "tags": []
          },
          "execution_count": 69
        }
      ]
    },
    {
      "cell_type": "code",
      "metadata": {
        "id": "E1lh8Zk-fKKy",
        "colab_type": "code",
        "colab": {
          "base_uri": "https://localhost:8080/",
          "height": 85
        },
        "outputId": "bda9c669-40bf-4d87-e681-5edf1268491e"
      },
      "source": [
        "d1[\"course\"]=\"python\"\n",
        "d1"
      ],
      "execution_count": 70,
      "outputs": [
        {
          "output_type": "execute_result",
          "data": {
            "text/plain": [
              "{'Email': 'yugugggu.com',\n",
              " 'address': 'Hderabad',\n",
              " 'course': 'python',\n",
              " 'name': 'Gitam'}"
            ]
          },
          "metadata": {
            "tags": []
          },
          "execution_count": 70
        }
      ]
    },
    {
      "cell_type": "code",
      "metadata": {
        "id": "-H1J8hBDfeoN",
        "colab_type": "code",
        "colab": {
          "base_uri": "https://localhost:8080/",
          "height": 34
        },
        "outputId": "12b739a8-7f00-4eb5-a1bb-bf5952b01b90"
      },
      "source": [
        "\n",
        "del d1[\"Email\"]\n",
        "d1"
      ],
      "execution_count": 75,
      "outputs": [
        {
          "output_type": "execute_result",
          "data": {
            "text/plain": [
              "{'address': 'Hderabad', 'name': 'Gitam'}"
            ]
          },
          "metadata": {
            "tags": []
          },
          "execution_count": 75
        }
      ]
    },
    {
      "cell_type": "code",
      "metadata": {
        "id": "MdC9v4Cxf2_d",
        "colab_type": "code",
        "colab": {
          "base_uri": "https://localhost:8080/",
          "height": 34
        },
        "outputId": "3c51e9a6-8a0b-41ac-8d3d-28bff9a0d297"
      },
      "source": [
        "d1.keys()"
      ],
      "execution_count": 76,
      "outputs": [
        {
          "output_type": "execute_result",
          "data": {
            "text/plain": [
              "dict_keys(['name', 'address'])"
            ]
          },
          "metadata": {
            "tags": []
          },
          "execution_count": 76
        }
      ]
    },
    {
      "cell_type": "code",
      "metadata": {
        "id": "6Lzw4c_fgTjV",
        "colab_type": "code",
        "colab": {
          "base_uri": "https://localhost:8080/",
          "height": 34
        },
        "outputId": "2c4025ad-f095-4b40-fceb-5c0249e79d85"
      },
      "source": [
        "d1.values()"
      ],
      "execution_count": 77,
      "outputs": [
        {
          "output_type": "execute_result",
          "data": {
            "text/plain": [
              "dict_values(['Gitam', 'Hderabad'])"
            ]
          },
          "metadata": {
            "tags": []
          },
          "execution_count": 77
        }
      ]
    },
    {
      "cell_type": "code",
      "metadata": {
        "id": "dOLBjGAFgVvF",
        "colab_type": "code",
        "colab": {
          "base_uri": "https://localhost:8080/",
          "height": 34
        },
        "outputId": "d554d8fd-cceb-42fb-86a2-2bf189e24720"
      },
      "source": [
        "d1.items()"
      ],
      "execution_count": 78,
      "outputs": [
        {
          "output_type": "execute_result",
          "data": {
            "text/plain": [
              "dict_items([('name', 'Gitam'), ('address', 'Hderabad')])"
            ]
          },
          "metadata": {
            "tags": []
          },
          "execution_count": 78
        }
      ]
    },
    {
      "cell_type": "markdown",
      "metadata": {
        "id": "RItIhZ5Fh_Sz",
        "colab_type": "text"
      },
      "source": [
        "# String\n",
        "##Strings\n",
        "##string slicings\n",
        "##Fundamental programming with string in python"
      ]
    },
    {
      "cell_type": "code",
      "metadata": {
        "id": "L0ZZBT_mgXqV",
        "colab_type": "code",
        "colab": {
          "base_uri": "https://localhost:8080/",
          "height": 51
        },
        "outputId": "2b85161e-a0d2-4bb8-e2a0-fd09917036c6"
      },
      "source": [
        "s1=\"python\"\n",
        "print(s1)\n",
        "print(type(s1))"
      ],
      "execution_count": 80,
      "outputs": [
        {
          "output_type": "stream",
          "text": [
            "python\n",
            "<class 'str'>\n"
          ],
          "name": "stdout"
        }
      ]
    },
    {
      "cell_type": "code",
      "metadata": {
        "id": "DbY13DHHh9Kp",
        "colab_type": "code",
        "colab": {
          "base_uri": "https://localhost:8080/",
          "height": 85
        },
        "outputId": "52e023e2-09dc-48a4-8548-a7aeb80321fe"
      },
      "source": [
        "s1='python'\n",
        "print(s1[0])\n",
        "print(s1[1])\n",
        "print(s1[5])\n",
        "print(s1[len(s1)-1])"
      ],
      "execution_count": 81,
      "outputs": [
        {
          "output_type": "stream",
          "text": [
            "p\n",
            "y\n",
            "n\n",
            "n\n"
          ],
          "name": "stdout"
        }
      ]
    },
    {
      "cell_type": "code",
      "metadata": {
        "id": "AYLK7vJhjCKH",
        "colab_type": "code",
        "colab": {
          "base_uri": "https://localhost:8080/",
          "height": 119
        },
        "outputId": "8d4cdabc-fc54-4dd7-c249-5b6284368499"
      },
      "source": [
        "print(s1[-1])\n",
        "print(s1[-2])\n",
        "print(s1[0:2])\n",
        "print(s1[:2])\n",
        "print(s1[-3:])\n",
        "print(s1[2:])"
      ],
      "execution_count": 82,
      "outputs": [
        {
          "output_type": "stream",
          "text": [
            "n\n",
            "o\n",
            "py\n",
            "py\n",
            "hon\n",
            "thon\n"
          ],
          "name": "stdout"
        }
      ]
    },
    {
      "cell_type": "code",
      "metadata": {
        "id": "0WrAeRF3jkkZ",
        "colab_type": "code",
        "colab": {
          "base_uri": "https://localhost:8080/",
          "height": 153
        },
        "outputId": "959e4cae-cc91-4db8-8fb0-08ca719711f4"
      },
      "source": [
        "s1='python'\n",
        "print(s1[1:-1])\n",
        "print(s1[len(s1)//2])\n",
        "print(s1[-1::-1])\n",
        "print(s1[::-1])\n",
        "print(s1[-1:-3:-1])\n",
        "print(s1[::2])\n",
        "print(s1[::3])\n",
        "print(s1[::-2])"
      ],
      "execution_count": 94,
      "outputs": [
        {
          "output_type": "stream",
          "text": [
            "ytho\n",
            "h\n",
            "nohtyp\n",
            "nohtyp\n",
            "no\n",
            "pto\n",
            "ph\n",
            "nhy\n"
          ],
          "name": "stdout"
        }
      ]
    },
    {
      "cell_type": "code",
      "metadata": {
        "id": "bbcbkVeDkzIF",
        "colab_type": "code",
        "colab": {
          "base_uri": "https://localhost:8080/",
          "height": 34
        },
        "outputId": "c66557bf-a84b-40f7-afd4-4d71966c4e66"
      },
      "source": [
        "# reversing of string\n",
        "def reversestring(str):\n",
        "    return str[-1::-1]\n",
        "reversestring(\"program\")\n"
      ],
      "execution_count": 97,
      "outputs": [
        {
          "output_type": "execute_result",
          "data": {
            "text/plain": [
              "'margorp'"
            ]
          },
          "metadata": {
            "tags": []
          },
          "execution_count": 97
        }
      ]
    },
    {
      "cell_type": "code",
      "metadata": {
        "id": "ncjWeP_foY8b",
        "colab_type": "code",
        "colab": {
          "base_uri": "https://localhost:8080/",
          "height": 333
        },
        "outputId": "2943f011-ed9e-4531-f17c-ac0feb927c70"
      },
      "source": [
        "# check string is paindrome or not\n",
        "def isPalindrome(str):\n",
        "    if str--str[::-1]:\n",
        "      return True\n",
        "    else:\n",
        "      return False\n",
        "    return\n",
        "print(isPalindrome(\"Python\"))\n",
        "print(isPalindrome(\"ganag\"))"
      ],
      "execution_count": 103,
      "outputs": [
        {
          "output_type": "error",
          "ename": "TypeError",
          "evalue": "ignored",
          "traceback": [
            "\u001b[0;31m---------------------------------------------------------------------------\u001b[0m",
            "\u001b[0;31mTypeError\u001b[0m                                 Traceback (most recent call last)",
            "\u001b[0;32m<ipython-input-103-1723f998b352>\u001b[0m in \u001b[0;36m<module>\u001b[0;34m()\u001b[0m\n\u001b[1;32m      5\u001b[0m       \u001b[0;32mreturn\u001b[0m \u001b[0;32mFalse\u001b[0m\u001b[0;34m\u001b[0m\u001b[0;34m\u001b[0m\u001b[0m\n\u001b[1;32m      6\u001b[0m     \u001b[0;32mreturn\u001b[0m\u001b[0;34m\u001b[0m\u001b[0;34m\u001b[0m\u001b[0m\n\u001b[0;32m----> 7\u001b[0;31m \u001b[0mprint\u001b[0m\u001b[0;34m(\u001b[0m\u001b[0misPalindrome\u001b[0m\u001b[0;34m(\u001b[0m\u001b[0;34m\"Python\"\u001b[0m\u001b[0;34m)\u001b[0m\u001b[0;34m)\u001b[0m\u001b[0;34m\u001b[0m\u001b[0;34m\u001b[0m\u001b[0m\n\u001b[0m\u001b[1;32m      8\u001b[0m \u001b[0mprint\u001b[0m\u001b[0;34m(\u001b[0m\u001b[0misPalindrome\u001b[0m\u001b[0;34m(\u001b[0m\u001b[0;34m\"ganag\"\u001b[0m\u001b[0;34m)\u001b[0m\u001b[0;34m)\u001b[0m\u001b[0;34m\u001b[0m\u001b[0;34m\u001b[0m\u001b[0m\n",
            "\u001b[0;32m<ipython-input-103-1723f998b352>\u001b[0m in \u001b[0;36misPalindrome\u001b[0;34m(str)\u001b[0m\n\u001b[1;32m      1\u001b[0m \u001b[0;32mdef\u001b[0m \u001b[0misPalindrome\u001b[0m\u001b[0;34m(\u001b[0m\u001b[0mstr\u001b[0m\u001b[0;34m)\u001b[0m\u001b[0;34m:\u001b[0m\u001b[0;34m\u001b[0m\u001b[0;34m\u001b[0m\u001b[0m\n\u001b[0;32m----> 2\u001b[0;31m     \u001b[0;32mif\u001b[0m \u001b[0mstr\u001b[0m \u001b[0;34m-\u001b[0m\u001b[0;34m-\u001b[0m \u001b[0mstr\u001b[0m\u001b[0;34m[\u001b[0m\u001b[0;34m:\u001b[0m\u001b[0;34m:\u001b[0m\u001b[0;34m-\u001b[0m\u001b[0;36m1\u001b[0m\u001b[0;34m]\u001b[0m\u001b[0;34m:\u001b[0m\u001b[0;34m\u001b[0m\u001b[0;34m\u001b[0m\u001b[0m\n\u001b[0m\u001b[1;32m      3\u001b[0m       \u001b[0;32mreturn\u001b[0m \u001b[0;32mTrue\u001b[0m\u001b[0;34m\u001b[0m\u001b[0;34m\u001b[0m\u001b[0m\n\u001b[1;32m      4\u001b[0m     \u001b[0;32melse\u001b[0m\u001b[0;34m:\u001b[0m\u001b[0;34m\u001b[0m\u001b[0;34m\u001b[0m\u001b[0m\n\u001b[1;32m      5\u001b[0m       \u001b[0;32mreturn\u001b[0m \u001b[0;32mFalse\u001b[0m\u001b[0;34m\u001b[0m\u001b[0;34m\u001b[0m\u001b[0m\n",
            "\u001b[0;31mTypeError\u001b[0m: bad operand type for unary -: 'str'"
          ]
        }
      ]
    },
    {
      "cell_type": "code",
      "metadata": {
        "id": "-eD-ugQ6p0Sa",
        "colab_type": "code",
        "colab": {
          "base_uri": "https://localhost:8080/",
          "height": 51
        },
        "outputId": "19e65069-4c14-4ec6-8dcd-5ef0f06e71ae"
      },
      "source": [
        "s1='Python'\n",
        "print(s1.upper())\n",
        "print(s1.lower())"
      ],
      "execution_count": 99,
      "outputs": [
        {
          "output_type": "stream",
          "text": [
            "PYTHON\n",
            "python\n"
          ],
          "name": "stdout"
        }
      ]
    },
    {
      "cell_type": "markdown",
      "metadata": {
        "id": "5k9u6S7brbzt",
        "colab_type": "text"
      },
      "source": [
        "### String Boolean Built-in methods\n",
        "3. islower() -- True if the string have all characters lower case\n",
        "4. isupper() -- True if the string have all characters upper case\n",
        "5. istitle() -- True if the string in title case\n",
        "6. isnumeric() -- True if the string is numeric\n",
        "7. isalpha() -- True if the string only alphabets\n",
        "8. isspace() -- True if the string is space"
      ]
    },
    {
      "cell_type": "code",
      "metadata": {
        "id": "p_UrMvm_p_v9",
        "colab_type": "code",
        "colab": {
          "base_uri": "https://localhost:8080/",
          "height": 51
        },
        "outputId": "4017c86d-ccee-4cf9-89d3-670b9e29bbb3"
      },
      "source": [
        "s1='python'\n",
        "print(s1.isupper())\n",
        "print(s1.islower())"
      ],
      "execution_count": 104,
      "outputs": [
        {
          "output_type": "stream",
          "text": [
            "False\n",
            "True\n"
          ],
          "name": "stdout"
        }
      ]
    },
    {
      "cell_type": "code",
      "metadata": {
        "id": "2femrIKmr20C",
        "colab_type": "code",
        "colab": {
          "base_uri": "https://localhost:8080/",
          "height": 51
        },
        "outputId": "6ac77d34-4d0a-4992-c865-69d9707e6d05"
      },
      "source": [
        "s2='Python'\n",
        "s3='python'\n",
        "print(s2.istitle())\n",
        "print(s3.istitle())\n"
      ],
      "execution_count": 105,
      "outputs": [
        {
          "output_type": "stream",
          "text": [
            "True\n",
            "False\n"
          ],
          "name": "stdout"
        }
      ]
    },
    {
      "cell_type": "code",
      "metadata": {
        "id": "hEQ20bRysPSR",
        "colab_type": "code",
        "colab": {
          "base_uri": "https://localhost:8080/",
          "height": 51
        },
        "outputId": "9eae84a2-c26d-4731-ba1f-67b34ad78115"
      },
      "source": [
        "s1='Python'\n",
        "s2='python77'\n",
        "print(s1.isalpha())\n",
        "print(s2.isalpha())\n"
      ],
      "execution_count": 107,
      "outputs": [
        {
          "output_type": "stream",
          "text": [
            "True\n",
            "False\n"
          ],
          "name": "stdout"
        }
      ]
    },
    {
      "cell_type": "code",
      "metadata": {
        "id": "3Vd0VpnLsjuN",
        "colab_type": "code",
        "colab": {
          "base_uri": "https://localhost:8080/",
          "height": 51
        },
        "outputId": "c3fb79b5-662e-4010-bccd-a63d3d2e8d24"
      },
      "source": [
        "s1=' '\n",
        "s2='py th on'\n",
        "print(s1.isspace())\n",
        "print(s2.isspace())"
      ],
      "execution_count": 109,
      "outputs": [
        {
          "output_type": "stream",
          "text": [
            "True\n",
            "False\n"
          ],
          "name": "stdout"
        }
      ]
    },
    {
      "cell_type": "code",
      "metadata": {
        "id": "nFoN0uRAs4Ol",
        "colab_type": "code",
        "colab": {
          "base_uri": "https://localhost:8080/",
          "height": 34
        },
        "outputId": "5cae10ad-4d15-4dff-c0eb-a5883e048442"
      },
      "source": [
        "s1='python'\n",
        "print(\" \".join(s1))"
      ],
      "execution_count": 112,
      "outputs": [
        {
          "output_type": "stream",
          "text": [
            "p y t h o n\n"
          ],
          "name": "stdout"
        }
      ]
    },
    {
      "cell_type": "code",
      "metadata": {
        "id": "oqIjmlIEtJgl",
        "colab_type": "code",
        "colab": {
          "base_uri": "https://localhost:8080/",
          "height": 34
        },
        "outputId": "c0abc81b-269b-4f2a-8c5c-7627d41c83e6"
      },
      "source": [
        "s2='python is easy o learn'\n",
        "print(\",\".join(s2))"
      ],
      "execution_count": 114,
      "outputs": [
        {
          "output_type": "stream",
          "text": [
            "p,y,t,h,o,n, ,i,s, ,e,a,s,y, ,o, ,l,e,a,r,n\n"
          ],
          "name": "stdout"
        }
      ]
    },
    {
      "cell_type": "code",
      "metadata": {
        "id": "MvrQ_idQtY4W",
        "colab_type": "code",
        "colab": {
          "base_uri": "https://localhost:8080/",
          "height": 34
        },
        "outputId": "0c9b2cd7-205e-49f7-eb2c-2992b08c8661"
      },
      "source": [
        "li=['python', 'is', 'easy']\n",
        "print(\",\".join(li))"
      ],
      "execution_count": 116,
      "outputs": [
        {
          "output_type": "stream",
          "text": [
            "python,is,easy\n"
          ],
          "name": "stdout"
        }
      ]
    },
    {
      "cell_type": "code",
      "metadata": {
        "id": "xX61xRYMtxhl",
        "colab_type": "code",
        "colab": {
          "base_uri": "https://localhost:8080/",
          "height": 34
        },
        "outputId": "f6d351a6-9048-41df-d96f-b12733035682"
      },
      "source": [
        "s2='python is easy learn'\n",
        "print(s2.split( ))"
      ],
      "execution_count": 117,
      "outputs": [
        {
          "output_type": "stream",
          "text": [
            "['python', 'is', 'easy', 'learn']\n"
          ],
          "name": "stdout"
        }
      ]
    },
    {
      "cell_type": "code",
      "metadata": {
        "id": "-qHPNXlnvjLN",
        "colab_type": "code",
        "colab": {
          "base_uri": "https://localhost:8080/",
          "height": 34
        },
        "outputId": "4c73dc51-ad29-42e6-ef20-892f62af83c1"
      },
      "source": [
        "s2='python is easy learn'\n",
        "print(s2.split('a'))"
      ],
      "execution_count": 118,
      "outputs": [
        {
          "output_type": "stream",
          "text": [
            "['python is e', 'sy le', 'rn']\n"
          ],
          "name": "stdout"
        }
      ]
    },
    {
      "cell_type": "code",
      "metadata": {
        "id": "BsaDgVP5v3LN",
        "colab_type": "code",
        "colab": {
          "base_uri": "https://localhost:8080/",
          "height": 68
        },
        "outputId": "8bd0f59d-0a9b-4e93-f267-3b626e24ef5c"
      },
      "source": [
        "s2='python is easy learn'\n",
        "print(len(s2))\n",
        "li=s2.split()\n",
        "print(li)\n",
        "print(len(li))"
      ],
      "execution_count": 119,
      "outputs": [
        {
          "output_type": "stream",
          "text": [
            "20\n",
            "['python', 'is', 'easy', 'learn']\n",
            "4\n"
          ],
          "name": "stdout"
        }
      ]
    },
    {
      "cell_type": "code",
      "metadata": {
        "id": "lMaaCRmOwQaI",
        "colab_type": "code",
        "colab": {
          "base_uri": "https://localhost:8080/",
          "height": 34
        },
        "outputId": "a29f9cca-9800-4c58-80ef-9c51c27847a9"
      },
      "source": [
        "s2='python is easy learn'\n",
        "li=list(s2)\n",
        "print(li)"
      ],
      "execution_count": 120,
      "outputs": [
        {
          "output_type": "stream",
          "text": [
            "['p', 'y', 't', 'h', 'o', 'n', ' ', 'i', 's', ' ', 'e', 'a', 's', 'y', ' ', 'l', 'e', 'a', 'r', 'n']\n"
          ],
          "name": "stdout"
        }
      ]
    },
    {
      "cell_type": "code",
      "metadata": {
        "id": "e0Ye60fFwoqO",
        "colab_type": "code",
        "colab": {
          "base_uri": "https://localhost:8080/",
          "height": 34
        },
        "outputId": "625b704c-d008-4203-d6b3-2177f2cf5e3a"
      },
      "source": [
        "s2='python is easy learn'\n",
        "print(s2.replace(\"easy\",\"application\"))"
      ],
      "execution_count": 123,
      "outputs": [
        {
          "output_type": "stream",
          "text": [
            "python is application learn\n"
          ],
          "name": "stdout"
        }
      ]
    },
    {
      "cell_type": "code",
      "metadata": {
        "id": "NJHXoT63xAx2",
        "colab_type": "code",
        "colab": {}
      },
      "source": [
        ""
      ],
      "execution_count": 0,
      "outputs": []
    }
  ]
}