{
  "nbformat": 4,
  "nbformat_minor": 0,
  "metadata": {
    "colab": {
      "name": "3-12-19",
      "provenance": [],
      "collapsed_sections": []
    },
    "kernelspec": {
      "name": "python3",
      "display_name": "Python 3"
    }
  },
  "cells": [
    {
      "cell_type": "code",
      "metadata": {
        "id": "YQI6cG2S5gu3",
        "colab_type": "code",
        "outputId": "3bb60dfa-8f9a-46c4-c3b0-8beb4190b871",
        "colab": {
          "base_uri": "https://localhost:8080/",
          "height": 34
        }
      },
      "source": [
        "print(\"welcome to c\")"
      ],
      "execution_count": 0,
      "outputs": [
        {
          "output_type": "stream",
          "text": [
            "welcome to c\n"
          ],
          "name": "stdout"
        }
      ]
    },
    {
      "cell_type": "code",
      "metadata": {
        "id": "eORP596T7FBk",
        "colab_type": "code",
        "outputId": "7f6fc18f-b2db-4114-e677-b3f4213f1c8b",
        "colab": {
          "base_uri": "https://localhost:8080/",
          "height": 34
        }
      },
      "source": [
        "x=5489456489748\n",
        "print(x)"
      ],
      "execution_count": 0,
      "outputs": [
        {
          "output_type": "stream",
          "text": [
            "5489456489748\n"
          ],
          "name": "stdout"
        }
      ]
    },
    {
      "cell_type": "code",
      "metadata": {
        "id": "ladQYCO-7uHc",
        "colab_type": "code",
        "colab": {}
      },
      "source": [
        ""
      ],
      "execution_count": 0,
      "outputs": []
    },
    {
      "cell_type": "markdown",
      "metadata": {
        "id": "72XcN1GO9x1b",
        "colab_type": "text"
      },
      "source": [
        "#markdown\n",
        "##markdown\n",
        "###markdown\n",
        "####markdown\n",
        "###insert a image"
      ]
    },
    {
      "cell_type": "code",
      "metadata": {
        "id": "LkJZk1IIE8v7",
        "colab_type": "code",
        "colab": {}
      },
      "source": [
        ""
      ],
      "execution_count": 0,
      "outputs": []
    },
    {
      "cell_type": "markdown",
      "metadata": {
        "id": "fnQ0oOaNF1JI",
        "colab_type": "text"
      },
      "source": [
        "### fundamental datatypes\n",
        "1. int\n"
      ]
    },
    {
      "cell_type": "code",
      "metadata": {
        "id": "9tc8YoEKJOEN",
        "colab_type": "code",
        "outputId": "a7d09602-d032-4775-cd2b-dda881d1611a",
        "colab": {
          "base_uri": "https://localhost:8080/",
          "height": 34
        }
      },
      "source": [
        "a = 10\n",
        "b = 12.05\n",
        "c  = 5+5j\n",
        "print(type(a),type(b),type(c))"
      ],
      "execution_count": 0,
      "outputs": [
        {
          "output_type": "stream",
          "text": [
            "<class 'int'> <class 'float'> <class 'complex'>\n"
          ],
          "name": "stdout"
        }
      ]
    },
    {
      "cell_type": "code",
      "metadata": {
        "id": "yUVzz36PJqsG",
        "colab_type": "code",
        "outputId": "345d04d5-d4b3-43d6-bfce-fe26cfdab27c",
        "colab": {
          "base_uri": "https://localhost:8080/",
          "height": 34
        }
      },
      "source": [
        "c = complex(3,4)\n",
        "print(c)"
      ],
      "execution_count": 0,
      "outputs": [
        {
          "output_type": "stream",
          "text": [
            "(3+4j)\n"
          ],
          "name": "stdout"
        }
      ]
    },
    {
      "cell_type": "code",
      "metadata": {
        "id": "pifoxa_xKqIZ",
        "colab_type": "code",
        "outputId": "d0ca825e-56e5-4037-9cc5-11fc58f8e816",
        "colab": {
          "base_uri": "https://localhost:8080/",
          "height": 68
        }
      },
      "source": [
        "c1 = 3+5j\n",
        "c2 = 6+7j\n",
        "print(c1+c2)\n",
        "print(c1-c2)\n",
        "print(c1*c2)"
      ],
      "execution_count": 0,
      "outputs": [
        {
          "output_type": "stream",
          "text": [
            "(9+12j)\n",
            "(-3-2j)\n",
            "(-17+51j)\n"
          ],
          "name": "stdout"
        }
      ]
    },
    {
      "cell_type": "code",
      "metadata": {
        "id": "eSwOfg5DLqSm",
        "colab_type": "code",
        "outputId": "e2a89070-788d-4102-9c37-a9f39975045b",
        "colab": {
          "base_uri": "https://localhost:8080/",
          "height": 34
        }
      },
      "source": [
        "## Boolean\n",
        "a=10\n",
        "b=20\n",
        "a>b"
      ],
      "execution_count": 0,
      "outputs": [
        {
          "output_type": "execute_result",
          "data": {
            "text/plain": [
              "False"
            ]
          },
          "metadata": {
            "tags": []
          },
          "execution_count": 10
        }
      ]
    },
    {
      "cell_type": "code",
      "metadata": {
        "id": "4ADvLcKyLk-l",
        "colab_type": "code",
        "outputId": "b59106a5-6b17-4554-b710-9248f095966b",
        "colab": {
          "base_uri": "https://localhost:8080/",
          "height": 34
        }
      },
      "source": [
        "s1=\"abc\"\n",
        "s2=\"xyz\"\n",
        "print(type(s1),type(s2))"
      ],
      "execution_count": 0,
      "outputs": [
        {
          "output_type": "stream",
          "text": [
            "<class 'str'> <class 'str'>\n"
          ],
          "name": "stdout"
        }
      ]
    },
    {
      "cell_type": "code",
      "metadata": {
        "id": "M8NIOZpiMAi9",
        "colab_type": "code",
        "outputId": "b3002262-a2b1-4748-a4fd-66bfa6b57fda",
        "colab": {
          "base_uri": "https://localhost:8080/",
          "height": 85
        }
      },
      "source": [
        "s1=\"100\"\n",
        "print(type(s1))\n",
        "a=int(s1)\n",
        "print(type(a))\n",
        "\n",
        "f=1.5\n",
        "a1=int(f)\n",
        "print(type(a1))\n",
        "print(a1)"
      ],
      "execution_count": 0,
      "outputs": [
        {
          "output_type": "stream",
          "text": [
            "<class 'str'>\n",
            "<class 'int'>\n",
            "<class 'int'>\n",
            "1\n"
          ],
          "name": "stdout"
        }
      ]
    },
    {
      "cell_type": "code",
      "metadata": {
        "id": "GvF4WoCdNHS-",
        "colab_type": "code",
        "outputId": "02beebbe-32c3-4e47-dc3e-5e0bd7b91150",
        "colab": {
          "base_uri": "https://localhost:8080/",
          "height": 34
        }
      },
      "source": [
        "a1=1234\n",
        "print(len(str(a1)))"
      ],
      "execution_count": 0,
      "outputs": [
        {
          "output_type": "stream",
          "text": [
            "4\n"
          ],
          "name": "stdout"
        }
      ]
    },
    {
      "cell_type": "code",
      "metadata": {
        "id": "3wpftdjROjMU",
        "colab_type": "code",
        "outputId": "897c9be3-1e4c-4d5e-f12a-2dcfdbc5a13d",
        "colab": {
          "base_uri": "https://localhost:8080/",
          "height": 34
        }
      },
      "source": [
        "a1=\"1234\"\n",
        "print(len(a1))"
      ],
      "execution_count": 0,
      "outputs": [
        {
          "output_type": "stream",
          "text": [
            "4\n"
          ],
          "name": "stdout"
        }
      ]
    },
    {
      "cell_type": "markdown",
      "metadata": {
        "id": "X92mBQgpQKXH",
        "colab_type": "text"
      },
      "source": [
        "### operators \n",
        "1. arthematic operators---> +,-,*,%,/,//,**\n",
        "2. logical operatiors----> and,or,not\n",
        "3. relational operators ---> <,>,<=,>=,==,!=\n",
        "4. membership operators ---> in, not in"
      ]
    },
    {
      "cell_type": "code",
      "metadata": {
        "id": "cUESvjZvQWEt",
        "colab_type": "code",
        "outputId": "6e4d9337-3777-4eb0-a50d-e2c7db2d8a15",
        "colab": {
          "base_uri": "https://localhost:8080/",
          "height": 136
        }
      },
      "source": [
        "n1=12\n",
        "n2=21\n",
        "print(n1+n2)\n",
        "print(n1-n2)\n",
        "print(n1*n2)\n",
        "print(n1%n2)\n",
        "print(n1/n2)\n",
        "print(n1//n2)\n",
        "print(n1**n2)"
      ],
      "execution_count": 0,
      "outputs": [
        {
          "output_type": "stream",
          "text": [
            "33\n",
            "-9\n",
            "252\n",
            "12\n",
            "0.5714285714285714\n",
            "0\n",
            "46005119909369701466112\n"
          ],
          "name": "stdout"
        }
      ]
    },
    {
      "cell_type": "code",
      "metadata": {
        "id": "a8LitkTmRSVu",
        "colab_type": "code",
        "outputId": "c0074f8f-28dc-44bc-911c-22f2e4e76211",
        "colab": {
          "base_uri": "https://localhost:8080/",
          "height": 85
        }
      },
      "source": [
        "# Relational operators\n",
        "print(n1==n2)\n",
        "print(n1!=n2)\n",
        "print(n1<n2)\n",
        "print(n1>n2)"
      ],
      "execution_count": 0,
      "outputs": [
        {
          "output_type": "stream",
          "text": [
            "False\n",
            "True\n",
            "True\n",
            "False\n"
          ],
          "name": "stdout"
        }
      ]
    },
    {
      "cell_type": "code",
      "metadata": {
        "id": "oY2ulIo1RqG-",
        "colab_type": "code",
        "outputId": "ee06590e-2cdb-421a-fe37-1f1ecbc54b37",
        "colab": {
          "base_uri": "https://localhost:8080/",
          "height": 68
        }
      },
      "source": [
        "# logical operators\n",
        "print(n1>=10 and n1<=20)\n",
        "print(n1>=10 or n1<=20)\n",
        "print(not n1)"
      ],
      "execution_count": 0,
      "outputs": [
        {
          "output_type": "stream",
          "text": [
            "True\n",
            "True\n",
            "False\n"
          ],
          "name": "stdout"
        }
      ]
    },
    {
      "cell_type": "markdown",
      "metadata": {
        "id": "hSHor2R0WHOU",
        "colab_type": "text"
      },
      "source": [
        "# problems on relational operators\n",
        "take two numbers\n",
        "        >,<,==,!=,<=,>="
      ]
    },
    {
      "cell_type": "code",
      "metadata": {
        "id": "WV9dOPSeWOO4",
        "colab_type": "code",
        "outputId": "9ace43fb-e9f3-4454-dfed-2c8ee41d266c",
        "colab": {
          "base_uri": "https://localhost:8080/",
          "height": 85
        }
      },
      "source": [
        "a=input(\"enter the value of a\")\n",
        "b=input(\"enter the value of b\")\n",
        "print()\n",
        "c=a>b\n",
        "d=a<b\n",
        "e=a==b\n",
        "f=a!=b\n",
        "g=a<=b\n",
        "h=a>=b\n",
        "print(c,d,e,f,g,h)\n"
      ],
      "execution_count": 0,
      "outputs": [
        {
          "output_type": "stream",
          "text": [
            "enter the value of a10\n",
            "enter the value of b20\n",
            "\n",
            "False True False True True False\n"
          ],
          "name": "stdout"
        }
      ]
    },
    {
      "cell_type": "markdown",
      "metadata": {
        "id": "n76WRJIlYM-3",
        "colab_type": "text"
      },
      "source": [
        "#membership operators\n",
        "## in -- true if the value is found in the sequence\n",
        "## not in --- true if the value is not found in the sequencce"
      ]
    },
    {
      "cell_type": "code",
      "metadata": {
        "id": "l9yZTxVZYhxw",
        "colab_type": "code",
        "outputId": "1070b923-1e44-4e73-abe4-a5f18baa8849",
        "colab": {
          "base_uri": "https://localhost:8080/",
          "height": 85
        }
      },
      "source": [
        "f=[1,2,3,4]\n",
        "print(1 in f)\n",
        "print(5 in f)\n",
        "print(6 not in f)\n",
        "print(3 not in f)"
      ],
      "execution_count": 0,
      "outputs": [
        {
          "output_type": "stream",
          "text": [
            "True\n",
            "False\n",
            "True\n",
            "False\n"
          ],
          "name": "stdout"
        }
      ]
    },
    {
      "cell_type": "markdown",
      "metadata": {
        "id": "-qFGA_DFaI_H",
        "colab_type": "text"
      },
      "source": [
        "## conditional statements\n",
        "1.if\n",
        "2.else\n",
        "3.elif\n",
        "## syntax:\n",
        "##### if condition:\n",
        "> statements<br>\n",
        "##### else:\n",
        "> statements"
      ]
    },
    {
      "cell_type": "markdown",
      "metadata": {
        "id": "e4Gv9GN4bwCg",
        "colab_type": "text"
      },
      "source": [
        "## To change even or odd"
      ]
    },
    {
      "cell_type": "code",
      "metadata": {
        "id": "RaX2Drzwapv4",
        "colab_type": "code",
        "outputId": "45163217-07d5-4feb-b8e6-66f31caf73a6",
        "colab": {
          "base_uri": "https://localhost:8080/",
          "height": 51
        }
      },
      "source": [
        " n=int(input(\"enter a value\"))\n",
        "if n%2 == 0:\n",
        "  print(\"even\")\n",
        "else:\n",
        "  print(\"odd\")"
      ],
      "execution_count": 0,
      "outputs": [
        {
          "output_type": "stream",
          "text": [
            "enter a value10\n",
            "even\n"
          ],
          "name": "stdout"
        }
      ]
    },
    {
      "cell_type": "markdown",
      "metadata": {
        "id": "w2WH9tdCb6nf",
        "colab_type": "text"
      },
      "source": [
        "## To check given number is multiple of 3 and 5\n"
      ]
    },
    {
      "cell_type": "code",
      "metadata": {
        "id": "4Ezxzfokb82M",
        "colab_type": "code",
        "outputId": "5fec36bd-ae46-4171-ee96-d25458d36d48",
        "colab": {
          "base_uri": "https://localhost:8080/",
          "height": 51
        }
      },
      "source": [
        "n=int(input(\"enter a value\"))\n",
        "if n%3==0 and n%5==0:\n",
        "  print(\"yes\")\n",
        "else:\n",
        "  print(\"no\")\n"
      ],
      "execution_count": 0,
      "outputs": [
        {
          "output_type": "stream",
          "text": [
            "enter a value27\n",
            "no\n"
          ],
          "name": "stdout"
        }
      ]
    },
    {
      "cell_type": "code",
      "metadata": {
        "id": "1zp8sabAcdPO",
        "colab_type": "code",
        "outputId": "318d69a8-88dc-4d46-fb3f-699890e8e17e",
        "colab": {
          "base_uri": "https://localhost:8080/",
          "height": 51
        }
      },
      "source": [
        "n=int(input(\"enter a value\"))\n",
        "if n%3==0 or n%5==0:\n",
        "  print(\"yes\")\n",
        "else:\n",
        "  print(\"no\")\n"
      ],
      "execution_count": 0,
      "outputs": [
        {
          "output_type": "stream",
          "text": [
            "enter a value27\n",
            "yes\n"
          ],
          "name": "stdout"
        }
      ]
    },
    {
      "cell_type": "markdown",
      "metadata": {
        "id": "1NYES7rld6Tw",
        "colab_type": "text"
      },
      "source": [
        "## Check given number is positive , negative or zero"
      ]
    },
    {
      "cell_type": "code",
      "metadata": {
        "id": "YOV5WzreeEnN",
        "colab_type": "code",
        "outputId": "808c1379-eaa0-494c-c0fb-9acafbb9ef13",
        "colab": {
          "base_uri": "https://localhost:8080/",
          "height": 51
        }
      },
      "source": [
        "n=int(input(\"enter a value\"))\n",
        "if n>0:\n",
        "  print(\"positive\")\n",
        "elif n<0:\n",
        "  print(\"negative\")\n",
        "else:\n",
        "  print(\"Zero\")\n"
      ],
      "execution_count": 0,
      "outputs": [
        {
          "output_type": "stream",
          "text": [
            "enter a value0\n",
            "Zero\n"
          ],
          "name": "stdout"
        }
      ]
    },
    {
      "cell_type": "markdown",
      "metadata": {
        "id": "7i7I5LHhgNIb",
        "colab_type": "text"
      },
      "source": [
        "## Check the input is leap year or not"
      ]
    },
    {
      "cell_type": "code",
      "metadata": {
        "id": "O_cRxnOKgYEe",
        "colab_type": "code",
        "outputId": "33b545fa-9100-4cc5-9c8a-8e1b7b48b82a",
        "colab": {
          "base_uri": "https://localhost:8080/",
          "height": 51
        }
      },
      "source": [
        "year=int(input(\"year\"))\n",
        "if year % 400 == 0 or ( year % 100 != 0 and year % 4 ==0):\n",
        "  print(\"Leap yr\")\n",
        "else:\n",
        "  print(\"not\")"
      ],
      "execution_count": 0,
      "outputs": [
        {
          "output_type": "stream",
          "text": [
            "year2100\n",
            "not\n"
          ],
          "name": "stdout"
        }
      ]
    },
    {
      "cell_type": "markdown",
      "metadata": {
        "id": "7P_T8XTSkQ79",
        "colab_type": "text"
      },
      "source": [
        "## While loop"
      ]
    },
    {
      "cell_type": "code",
      "metadata": {
        "id": "WPLwVoAfhiJt",
        "colab_type": "code",
        "outputId": "29285c95-3e23-458c-933f-80b1efeccda0",
        "colab": {
          "base_uri": "https://localhost:8080/",
          "height": 51
        }
      },
      "source": [
        "n = int(input(\"enter a number\"))\n",
        "i=1\n",
        "while i<= n:\n",
        "  print(i,end=\" \")\n",
        "  i=i+1"
      ],
      "execution_count": 0,
      "outputs": [
        {
          "output_type": "stream",
          "text": [
            "enter a number7\n",
            "1 2 3 4 5 6 7 "
          ],
          "name": "stdout"
        }
      ]
    },
    {
      "cell_type": "markdown",
      "metadata": {
        "id": "KsMBmID9lB-Q",
        "colab_type": "text"
      },
      "source": [
        "# read a number a input\n",
        "## Output should be sum of even no's fron 1 to N"
      ]
    },
    {
      "cell_type": "code",
      "metadata": {
        "id": "Dlo0tAAsk_38",
        "colab_type": "code",
        "outputId": "c941be73-40da-4605-d8af-1579eb7fa189",
        "colab": {
          "base_uri": "https://localhost:8080/",
          "height": 51
        }
      },
      "source": [
        "n=int(input(\"enter a number:  \"))\n",
        "i =1\n",
        "s=0\n",
        "while i<=n:\n",
        "  if i%2==0:\n",
        "    s=s+i\n",
        "  i=i+1\n",
        "print(s)"
      ],
      "execution_count": 0,
      "outputs": [
        {
          "output_type": "stream",
          "text": [
            "enter a number:  10\n",
            "30\n"
          ],
          "name": "stdout"
        }
      ]
    },
    {
      "cell_type": "code",
      "metadata": {
        "id": "g8GDHsf_luEo",
        "colab_type": "code",
        "colab": {}
      },
      "source": [
        ""
      ],
      "execution_count": 0,
      "outputs": []
    }
  ]
}