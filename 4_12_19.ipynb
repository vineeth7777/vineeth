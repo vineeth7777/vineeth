{
  "nbformat": 4,
  "nbformat_minor": 0,
  "metadata": {
    "colab": {
      "name": "4-12-19",
      "provenance": [],
      "collapsed_sections": []
    },
    "kernelspec": {
      "name": "python3",
      "display_name": "Python 3"
    }
  },
  "cells": [
    {
      "cell_type": "markdown",
      "metadata": {
        "id": "lr1_UEHlDKFW",
        "colab_type": "text"
      },
      "source": [
        "# Print a Number\n",
        "# Print the even digit sum from the number\n"
      ]
    },
    {
      "cell_type": "code",
      "metadata": {
        "id": "k606gIpvDFDP",
        "colab_type": "code",
        "colab": {
          "base_uri": "https://localhost:8080/",
          "height": 34
        },
        "outputId": "fc1d892a-9628-43f7-d5d7-8c913b50c7c0"
      },
      "source": [
        "# Input : 1234\n",
        "# Output : 6(2+4)\n",
        "def evenDigitsum(n):\n",
        "  s=0\n",
        "  while n!=0:\n",
        "    r=n%10\n",
        "    if r%2==0:\n",
        "       s = s+r\n",
        "    n=n//10\n",
        "  return s\n",
        "evenDigitsum(1234)"
      ],
      "execution_count": 4,
      "outputs": [
        {
          "output_type": "execute_result",
          "data": {
            "text/plain": [
              "6"
            ]
          },
          "metadata": {
            "tags": []
          },
          "execution_count": 4
        }
      ]
    },
    {
      "cell_type": "markdown",
      "metadata": {
        "id": "EDCJM3CEGJ1C",
        "colab_type": "text"
      },
      "source": [
        "# Square of a Number"
      ]
    },
    {
      "cell_type": "code",
      "metadata": {
        "id": "P1DUHmSQEY3A",
        "colab_type": "code",
        "colab": {
          "base_uri": "https://localhost:8080/",
          "height": 51
        },
        "outputId": "bb32c7b4-e793-4b86-c5d0-642392fa2144"
      },
      "source": [
        "def square(x):\n",
        "  print(x*x)\n",
        "print(square(4))\n",
        "           "
      ],
      "execution_count": 5,
      "outputs": [
        {
          "output_type": "stream",
          "text": [
            "16\n",
            "None\n"
          ],
          "name": "stdout"
        }
      ]
    },
    {
      "cell_type": "code",
      "metadata": {
        "id": "EG8hJ55_Hs--",
        "colab_type": "code",
        "colab": {
          "base_uri": "https://localhost:8080/",
          "height": 34
        },
        "outputId": "836fcd78-4a2f-4dfa-9fc4-39b0a8de0b50"
      },
      "source": [
        "def square(x):\n",
        "  return x*x\n",
        "square(3)"
      ],
      "execution_count": 10,
      "outputs": [
        {
          "output_type": "execute_result",
          "data": {
            "text/plain": [
              "9"
            ]
          },
          "metadata": {
            "tags": []
          },
          "execution_count": 10
        }
      ]
    },
    {
      "cell_type": "code",
      "metadata": {
        "id": "Sni1jAtZH11Z",
        "colab_type": "code",
        "colab": {
          "base_uri": "https://localhost:8080/",
          "height": 51
        },
        "outputId": "ba3a8eed-5b1d-4d07-c507-7d7ede7368d8"
      },
      "source": [
        "def cube(x):\n",
        "  print(x*x*x)\n",
        "print(cube(2))"
      ],
      "execution_count": 11,
      "outputs": [
        {
          "output_type": "stream",
          "text": [
            "8\n",
            "None\n"
          ],
          "name": "stdout"
        }
      ]
    },
    {
      "cell_type": "code",
      "metadata": {
        "id": "r4mHOEujIHnC",
        "colab_type": "code",
        "colab": {
          "base_uri": "https://localhost:8080/",
          "height": 34
        },
        "outputId": "917231c3-b5fb-4659-d2ba-2caaab031337"
      },
      "source": [
        "def cube(x):\n",
        "  return x*x*x\n",
        "cube(2)"
      ],
      "execution_count": 12,
      "outputs": [
        {
          "output_type": "execute_result",
          "data": {
            "text/plain": [
              "8"
            ]
          },
          "metadata": {
            "tags": []
          },
          "execution_count": 12
        }
      ]
    },
    {
      "cell_type": "code",
      "metadata": {
        "id": "EINqOH3KIVLm",
        "colab_type": "code",
        "colab": {
          "base_uri": "https://localhost:8080/",
          "height": 68
        },
        "outputId": "1debdab0-7eee-4402-a270-eafa83c045a4"
      },
      "source": [
        "def multiply(x,y):\n",
        "  print(\"value of x=\",x)\n",
        "  print(\"value of y=\",y)\n",
        "  return(x*y)\n",
        "print(multiply(x=4,y=2))"
      ],
      "execution_count": 17,
      "outputs": [
        {
          "output_type": "stream",
          "text": [
            "value of x= 4\n",
            "value of y= 2\n",
            "8\n"
          ],
          "name": "stdout"
        }
      ]
    },
    {
      "cell_type": "markdown",
      "metadata": {
        "id": "cVx8oRhxKd8L",
        "colab_type": "text"
      },
      "source": [
        "# Swap values"
      ]
    },
    {
      "cell_type": "code",
      "metadata": {
        "id": "tJeK424nKNUR",
        "colab_type": "code",
        "colab": {
          "base_uri": "https://localhost:8080/",
          "height": 34
        },
        "outputId": "3c917ff7-0f00-49e5-c8b3-79aadc166f8e"
      },
      "source": [
        "def swap(x,y):\n",
        "    temp=x\n",
        "    x=y\n",
        "    y=temp\n",
        "    return x,y\n",
        "swap(2,3)"
      ],
      "execution_count": 20,
      "outputs": [
        {
          "output_type": "execute_result",
          "data": {
            "text/plain": [
              "(3, 2)"
            ]
          },
          "metadata": {
            "tags": []
          },
          "execution_count": 20
        }
      ]
    },
    {
      "cell_type": "markdown",
      "metadata": {
        "id": "WKsMchRXQIce",
        "colab_type": "text"
      },
      "source": [
        "# Largest digit of the given number"
      ]
    },
    {
      "cell_type": "code",
      "metadata": {
        "id": "1ZV8fcHdLBGB",
        "colab_type": "code",
        "colab": {
          "base_uri": "https://localhost:8080/",
          "height": 34
        },
        "outputId": "3638075a-2314-4739-8df0-fffc532806d2"
      },
      "source": [
        "# input : 19535\n",
        "# Output : 9 \n",
        "def largeDigit(n):\n",
        "    large=0\n",
        "    while n!=0:\n",
        "      r=n%10\n",
        "      if large < r :\n",
        "          large = r\n",
        "      n=n//10\n",
        "    return large\n",
        "largeDigit(19535)"
      ],
      "execution_count": 27,
      "outputs": [
        {
          "output_type": "execute_result",
          "data": {
            "text/plain": [
              "9"
            ]
          },
          "metadata": {
            "tags": []
          },
          "execution_count": 27
        }
      ]
    },
    {
      "cell_type": "markdown",
      "metadata": {
        "id": "FCcmZksPRsvh",
        "colab_type": "text"
      },
      "source": [
        "# For Loop\n",
        "##### syntax 1:\n",
        "for i in range (start,stop,step):\n",
        "> statements\n",
        "##### syntax 2:\n",
        "for i in Iterableobject:\n",
        "> statements"
      ]
    },
    {
      "cell_type": "code",
      "metadata": {
        "id": "rChvoggOQ8TT",
        "colab_type": "code",
        "colab": {
          "base_uri": "https://localhost:8080/",
          "height": 34
        },
        "outputId": "3862a050-3670-4582-c4f8-f4eb6ff6f6d9"
      },
      "source": [
        "# Function to print the numbers btw two limits\n",
        "def printseries(lb,ub):\n",
        "    for x in range(lb,ub+1):\n",
        "        print(x,end=' ')\n",
        "    return\n",
        "printseries(1,10)"
      ],
      "execution_count": 29,
      "outputs": [
        {
          "output_type": "stream",
          "text": [
            "1 2 3 4 5 6 7 8 9 10 "
          ],
          "name": "stdout"
        }
      ]
    },
    {
      "cell_type": "markdown",
      "metadata": {
        "id": "4gRAxlkHU0hi",
        "colab_type": "text"
      },
      "source": [
        "# Python Collections (Arrays)\n",
        "There are four collection data types in the Python programming language:\n",
        "\n",
        "##List is a collection which is ordered and changeable. Allows duplicate members.\n",
        "##Tuple is a collection which is ordered and unchangeable. Allows duplicate members.\n",
        "##Set is a collection which is unordered and unindexed. No duplicate members.\n",
        "##Dictionary is a collection which is unordered, changeable and indexed. No duplicate members."
      ]
    },
    {
      "cell_type": "markdown",
      "metadata": {
        "id": "cl57PXJbW0_1",
        "colab_type": "text"
      },
      "source": [
        "## List\n",
        "- one of the data structure in python\n",
        "- Data structure means to store,sort and search Options\n",
        "- its one common data steucture in python , the items of lists seperated by comma and enclosed in square brackets [ ]\n",
        "### Examples \n",
        "- List1 = [1,2,3,4]\n",
        "- List2 = [\"Gitam\",1,2]"
      ]
    },
    {
      "cell_type": "code",
      "metadata": {
        "id": "ZL_5RRPgUgvF",
        "colab_type": "code",
        "colab": {
          "base_uri": "https://localhost:8080/",
          "height": 187
        },
        "outputId": "a9f59a2a-aaa8-4c5d-8c86-01ec52a141f7"
      },
      "source": [
        "li=[1,8,16,9,2]\n",
        "print(li)\n",
        "print(li[0])\n",
        "print(li[1])\n",
        "print(li[-5])\n",
        "print(li[4])\n",
        "print(li[1:])\n",
        "print(li[4:])\n",
        "print(li[3:])\n",
        "print(li[1:4])\n",
        "print(li[-4:-1])"
      ],
      "execution_count": 42,
      "outputs": [
        {
          "output_type": "stream",
          "text": [
            "[1, 8, 16, 9, 2]\n",
            "1\n",
            "8\n",
            "1\n",
            "2\n",
            "[8, 16, 9, 2]\n",
            "[2]\n",
            "[9, 2]\n",
            "[8, 16, 9]\n",
            "[8, 16, 9]\n"
          ],
          "name": "stdout"
        }
      ]
    },
    {
      "cell_type": "code",
      "metadata": {
        "id": "zBGV24nOYMFO",
        "colab_type": "code",
        "colab": {
          "base_uri": "https://localhost:8080/",
          "height": 51
        },
        "outputId": "76f914fe-4a0b-4728-fbd4-a468cb8b12b3"
      },
      "source": [
        "# Update List\n",
        "li=['gitam',1234,'hyd']\n",
        "print(li)\n",
        "li[1]=456\n",
        "print(li)"
      ],
      "execution_count": 44,
      "outputs": [
        {
          "output_type": "stream",
          "text": [
            "['gitam', 1234, 'hyd']\n",
            "['gitam', 456, 'hyd']\n"
          ],
          "name": "stdout"
        }
      ]
    },
    {
      "cell_type": "code",
      "metadata": {
        "id": "9UFUHKKscJDJ",
        "colab_type": "code",
        "colab": {
          "base_uri": "https://localhost:8080/",
          "height": 51
        },
        "outputId": "9fc3e759-f700-4df1-beb9-e91a43e71b0b"
      },
      "source": [
        "# Delete a value from list\n",
        "li=['gitam',1234,2018,2019,'hyd']\n",
        "print(li)\n",
        "del li[2]\n",
        "print(li)"
      ],
      "execution_count": 49,
      "outputs": [
        {
          "output_type": "stream",
          "text": [
            "['gitam', 1234, 2018, 2019, 'hyd']\n",
            "['gitam', 1234, 2019, 'hyd']\n"
          ],
          "name": "stdout"
        }
      ]
    },
    {
      "cell_type": "code",
      "metadata": {
        "id": "U1PdjDNhc55x",
        "colab_type": "code",
        "colab": {
          "base_uri": "https://localhost:8080/",
          "height": 34
        },
        "outputId": "23c3d34d-3875-4561-cec2-3e3d566a532b"
      },
      "source": [
        "# Basic list operations\n",
        "li=[1,2,3,4]\n",
        "## length of the string\n",
        "print(len(li))"
      ],
      "execution_count": 50,
      "outputs": [
        {
          "output_type": "stream",
          "text": [
            "4\n"
          ],
          "name": "stdout"
        }
      ]
    }
  ]
}